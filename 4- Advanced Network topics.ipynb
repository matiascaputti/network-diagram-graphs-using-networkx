{
 "cells": [
  {
   "cell_type": "markdown",
   "metadata": {},
   "source": [
    "## Shortest Path Problems\n",
    "\n",
    "When you surf the web, send an email, or log in to a laboratory computer from another location on campus a lot of work is going on behind the scenes to get the information on your computer transferred to another computer.\n",
    "\n",
    "<img src=\"images/internet.png\">\n",
    "\n",
    "The figure above shows you a high-level overview of how communication on the Internet works. When you use your browser to request a web page from a server, the request must travel over your local area network and out onto the Internet through a router. The request travels over the Internet and eventually arrives at a router for the local area network where the server is located. The web page you requested then travels back through the same routers to get to your browser.\n",
    "\n",
    "Inside the cloud labelled “Internet” are additional routers. The job of all of these routers is to work together to get your information from place to place. So if you run the `traceroute` command at different times of the day, you are likely to see that your information flows through different routers at different times.\n",
    "\n",
    "By this time it will not surprise you to learn that we can represent the network of routers as a graph with weighted edges.\n",
    "\n",
    "<img src=\"images/routeGraph.png\">\n",
    "\n",
    "Figure above shows a small example of a weighted graph that represents the interconnection of routers in the Internet.\n",
    "\n",
    "> The problem that we want to solve is to find the path with the smallest total weight along which to route any given message.\n",
    "\n",
    "This problem should sound familiar because it is similar to the problem we solved using a breadth first search, except that here we are concerned with the total weight of the path rather than the number of hops in the path. It should be noted that if all the weights are equal, the problem is the same."
   ]
  },
  {
   "cell_type": "code",
   "execution_count": 1,
   "metadata": {},
   "outputs": [],
   "source": [
    "import pandas as pd\n",
    "import numpy as np\n",
    "import networkx as nx\n",
    "import matplotlib\n",
    "import matplotlib.pyplot as plt\n",
    "matplotlib.rcParams['figure.figsize'] = (12, 6)"
   ]
  },
  {
   "cell_type": "code",
   "execution_count": 2,
   "metadata": {},
   "outputs": [
    {
     "data": {
      "image/png": "[encoded data removed]",
      "text/plain": [
       "<Figure size 432x288 with 1 Axes>"
      ]
     },
     "metadata": {},
     "output_type": "display_data"
    }
   ],
   "source": [
    "df = pd.DataFrame({\n",
    "    'from':    ['R','R','S','S','T','U','U','U','V','V','W','W','W','X','Y'],\n",
    "    'to':      ['V','W','W','Z','Y','V','W','X','X','W','X','Y','Z','Y','Z'],\n",
    "    'weight': [ 4,  2,  1,  4,  2,  2,  5,  1,  2,  3,  3,  1,  5,  1,  1 ]\n",
    "})\n",
    "\n",
    "G = nx.from_pandas_edgelist(df,\n",
    "                            source='from',\n",
    "                            target='to',\n",
    "                            edge_attr=['weight']\n",
    "                           )\n",
    "nx.draw(G,\n",
    "        with_labels=True,\n",
    "        node_color='black',\n",
    "        node_size=500,\n",
    "        edge_color=df['weight'],\n",
    "        width=5,\n",
    "        font_size=14,\n",
    "        font_color=\"white\",\n",
    "        font_weight=\"bold\",\n",
    "        edge_cmap=plt.cm.copper\n",
    "       )"
   ]
  },
  {
   "cell_type": "markdown",
   "metadata": {},
   "source": [
    "Returns a list of cycles which form a basis for cycles of G."
   ]
  },
  {
   "cell_type": "code",
   "execution_count": 3,
   "metadata": {},
   "outputs": [
    {
     "data": {
      "text/plain": [
       "[['V', 'X', 'U'],\n",
       " ['W', 'X', 'U'],\n",
       " ['W', 'Y', 'X'],\n",
       " ['W', 'Z', 'Y'],\n",
       " ['W', 'S', 'Z'],\n",
       " ['V', 'W', 'U'],\n",
       " ['V', 'R', 'W']]"
      ]
     },
     "execution_count": 3,
     "metadata": {},
     "output_type": "execute_result"
    }
   ],
   "source": [
    "nx.cycle_basis(G, root='U')"
   ]
  },
  {
   "cell_type": "markdown",
   "metadata": {},
   "source": [
    "## Shortest path\n",
    "\n",
    "Calculate the _shortest path_ from each node to each other."
   ]
  },
  {
   "cell_type": "code",
   "execution_count": 4,
   "metadata": {},
   "outputs": [
    {
     "data": {
      "text/plain": [
       "[('R',\n",
       "  {'R': 0, 'V': 1, 'W': 1, 'U': 2, 'X': 2, 'S': 2, 'Y': 2, 'Z': 2, 'T': 3}),\n",
       " ('V',\n",
       "  {'V': 0, 'R': 1, 'U': 1, 'X': 1, 'W': 1, 'Y': 2, 'S': 2, 'Z': 2, 'T': 3}),\n",
       " ('W',\n",
       "  {'W': 0, 'R': 1, 'S': 1, 'U': 1, 'V': 1, 'X': 1, 'Y': 1, 'Z': 1, 'T': 2}),\n",
       " ('S',\n",
       "  {'S': 0, 'W': 1, 'Z': 1, 'R': 2, 'U': 2, 'V': 2, 'X': 2, 'Y': 2, 'T': 3}),\n",
       " ('Z',\n",
       "  {'Z': 0, 'S': 1, 'W': 1, 'Y': 1, 'R': 2, 'U': 2, 'V': 2, 'X': 2, 'T': 2}),\n",
       " ('T',\n",
       "  {'T': 0, 'Y': 1, 'W': 2, 'X': 2, 'Z': 2, 'R': 3, 'S': 3, 'U': 3, 'V': 3}),\n",
       " ('Y',\n",
       "  {'Y': 0, 'T': 1, 'W': 1, 'X': 1, 'Z': 1, 'R': 2, 'S': 2, 'U': 2, 'V': 2}),\n",
       " ('U',\n",
       "  {'U': 0, 'V': 1, 'W': 1, 'X': 1, 'R': 2, 'S': 2, 'Y': 2, 'Z': 2, 'T': 3}),\n",
       " ('X',\n",
       "  {'X': 0, 'U': 1, 'V': 1, 'W': 1, 'Y': 1, 'R': 2, 'S': 2, 'Z': 2, 'T': 2})]"
      ]
     },
     "execution_count": 4,
     "metadata": {},
     "output_type": "execute_result"
    }
   ],
   "source": [
    "list(nx.shortest_path_length(G))"
   ]
  },
  {
   "cell_type": "code",
   "execution_count": 5,
   "metadata": {},
   "outputs": [
    {
     "data": {
      "text/plain": [
       "1.6944444444444444"
      ]
     },
     "execution_count": 5,
     "metadata": {},
     "output_type": "execute_result"
    }
   ],
   "source": [
    "nx.average_shortest_path_length(G)"
   ]
  },
  {
   "cell_type": "markdown",
   "metadata": {},
   "source": [
    "Now we'll use **Dijkstra’s Method** to compute the **shortest weighted path between** two nodes in a graph."
   ]
  },
  {
   "cell_type": "code",
   "execution_count": 6,
   "metadata": {},
   "outputs": [
    {
     "data": {
      "text/plain": [
       "['T', 'Y', 'W', 'R']"
      ]
     },
     "execution_count": 6,
     "metadata": {},
     "output_type": "execute_result"
    }
   ],
   "source": [
    "nx.dijkstra_path(G, 'T', 'R')"
   ]
  },
  {
   "cell_type": "code",
   "execution_count": 7,
   "metadata": {},
   "outputs": [
    {
     "data": {
      "text/plain": [
       "['U', 'X', 'Y', 'Z']"
      ]
     },
     "execution_count": 7,
     "metadata": {},
     "output_type": "execute_result"
    }
   ],
   "source": [
    "nx.dijkstra_path(G, 'U', 'Z')"
   ]
  },
  {
   "cell_type": "markdown",
   "metadata": {},
   "source": [
    "## Critical path\n",
    "\n",
    "Now we are goint to calculate the **longest path** of our graph by finding a simple path of maximum length in our graph.\n",
    "\n",
    "To do that we'll use **Dijkstra’s Method** with **inverse weights**."
   ]
  },
  {
   "cell_type": "code",
   "execution_count": 8,
   "metadata": {},
   "outputs": [
    {
     "data": {
      "image/png": "[encoded data removed]",
      "text/plain": [
       "<Figure size 432x288 with 1 Axes>"
      ]
     },
     "metadata": {},
     "output_type": "display_data"
    }
   ],
   "source": [
    "weights = [ 4,  2,  6,  4,  6,  5,  3,  4,  6,  0,  6,  0 ]\n",
    "\n",
    "df = pd.DataFrame({\n",
    "    'from':    ['A','B','B','C','C','D','D','E','E','F','G','H'],\n",
    "    'to':      ['B','C','D','G','H','E','F','G','H','I','H','I'],\n",
    "    'weight': weights,\n",
    "    'inverse_weight': -np.array(weights)\n",
    "})\n",
    "\n",
    "G = nx.from_pandas_edgelist(df,\n",
    "                            source='from',\n",
    "                            target='to',\n",
    "                            edge_attr=['weight', 'inverse_weight'],\n",
    "                            create_using=nx.DiGraph()\n",
    "                           )\n",
    "\n",
    "nx.draw(G,\n",
    "        with_labels=True,\n",
    "        arrows=True,\n",
    "        node_color='black',\n",
    "        node_size=500,\n",
    "        edge_color=df['weight'],\n",
    "        width=3,\n",
    "        font_size=14,\n",
    "        font_color=\"white\",\n",
    "        font_weight=\"bold\",\n",
    "        edge_cmap=plt.cm.copper\n",
    "       )"
   ]
  },
  {
   "cell_type": "markdown",
   "metadata": {},
   "source": [
    "That graph doesn't have any cycle."
   ]
  },
  {
   "cell_type": "code",
   "execution_count": 9,
   "metadata": {},
   "outputs": [
    {
     "data": {
      "text/plain": [
       "0"
      ]
     },
     "execution_count": 9,
     "metadata": {},
     "output_type": "execute_result"
    }
   ],
   "source": [
    "len(list(nx.simple_cycles(G)))"
   ]
  },
  {
   "cell_type": "code",
   "execution_count": 10,
   "metadata": {},
   "outputs": [
    {
     "data": {
      "text/plain": [
       "[('A',\n",
       "  {'A': 0, 'B': 1, 'C': 2, 'D': 2, 'G': 3, 'H': 3, 'E': 3, 'F': 3, 'I': 4}),\n",
       " ('B', {'B': 0, 'C': 1, 'D': 1, 'G': 2, 'H': 2, 'E': 2, 'F': 2, 'I': 3}),\n",
       " ('C', {'C': 0, 'G': 1, 'H': 1, 'I': 2}),\n",
       " ('D', {'D': 0, 'E': 1, 'F': 1, 'G': 2, 'H': 2, 'I': 2}),\n",
       " ('G', {'G': 0, 'H': 1, 'I': 2}),\n",
       " ('H', {'H': 0, 'I': 1}),\n",
       " ('E', {'E': 0, 'G': 1, 'H': 1, 'I': 2}),\n",
       " ('F', {'F': 0, 'I': 1}),\n",
       " ('I', {'I': 0})]"
      ]
     },
     "execution_count": 10,
     "metadata": {},
     "output_type": "execute_result"
    }
   ],
   "source": [
    "list(nx.shortest_path_length(G))"
   ]
  },
  {
   "cell_type": "code",
   "execution_count": 11,
   "metadata": {},
   "outputs": [
    {
     "data": {
      "text/plain": [
       "0.7638888888888888"
      ]
     },
     "execution_count": 11,
     "metadata": {},
     "output_type": "execute_result"
    }
   ],
   "source": [
    "nx.average_shortest_path_length(G)"
   ]
  },
  {
   "cell_type": "markdown",
   "metadata": {},
   "source": [
    "Now we'll use **Dijkstra’s Method** to compute the **shortest weighted path** between two nodes in a graph."
   ]
  },
  {
   "cell_type": "code",
   "execution_count": 12,
   "metadata": {},
   "outputs": [
    {
     "data": {
      "text/plain": [
       "['A', 'B', 'C', 'H', 'I']"
      ]
     },
     "execution_count": 12,
     "metadata": {},
     "output_type": "execute_result"
    }
   ],
   "source": [
    "nx.dijkstra_path(G,\n",
    "                 source='A',\n",
    "                 target='I',\n",
    "                 weight='weight')"
   ]
  },
  {
   "cell_type": "markdown",
   "metadata": {},
   "source": [
    "Now we'll use **Dijkstra’s Method** to compute the **critical _(longest)_ weighted path** between two nodes in a graph, using **inverse weights**."
   ]
  },
  {
   "cell_type": "code",
   "execution_count": 13,
   "metadata": {},
   "outputs": [
    {
     "data": {
      "text/plain": [
       "['A', 'B', 'D', 'E', 'H', 'I']"
      ]
     },
     "execution_count": 13,
     "metadata": {},
     "output_type": "execute_result"
    }
   ],
   "source": [
    "nx.dijkstra_path(G,\n",
    "                 source='A',\n",
    "                 target='I',\n",
    "                 weight='inverse_weight')"
   ]
  }
 ],
 "metadata": {
  "kernelspec": {
   "display_name": "Python 3",
   "language": "python",
   "name": "python3"
  },
  "language_info": {
   "codemirror_mode": {
    "name": "ipython",
    "version": 3
   },
   "file_extension": ".py",
   "mimetype": "text/x-python",
   "name": "python",
   "nbconvert_exporter": "python",
   "pygments_lexer": "ipython3",
   "version": "3.6.6"
  }
 },
 "nbformat": 4,
 "nbformat_minor": 2
}
